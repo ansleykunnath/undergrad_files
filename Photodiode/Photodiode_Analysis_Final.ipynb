{
 "cells": [
  {
   "cell_type": "markdown",
   "metadata": {},
   "source": [
    "Photodiode Analysis Code\n",
    "Ansley Kunnath\n",
    "Updated 04/02/24\n",
    "Run with Python 3.9.12"
   ]
  },
  {
   "cell_type": "code",
   "execution_count": 176,
   "metadata": {},
   "outputs": [
    {
     "name": "stdout",
     "output_type": "stream",
     "text": [
      "Extracting parameters from /Users/ansle/Documents/GitHub/undergrad_files/PhotoDiode_2024-03-22_10-24-46.vhdr...\n",
      "Setting channel info structure...\n",
      "Used Annotations descriptions: ['Marker/Impedance', 'New Segment/', 'Stimulus/s1', 'Stimulus/s2', 'Stimulus/s3', 'Stimulus/s5']\n"
     ]
    },
    {
     "name": "stderr",
     "output_type": "stream",
     "text": [
      "/var/folders/dv/s4k5_3r51ml3q36bgbcdsgbr0000gn/T/ipykernel_45409/3637897116.py:16: RuntimeWarning: Limited 1 annotation(s) that were expanding outside the data range.\n",
      "  raw = mne.io.read_raw_brainvision(file_vhdr)\n"
     ]
    }
   ],
   "source": [
    "import mne\n",
    "import numpy as np\n",
    "from mne.preprocessing import (ICA)\n",
    "from scipy.signal import find_peaks\n",
    "import matplotlib\n",
    "import matplotlib.pyplot as plt\n",
    "matplotlib.use(\"TkAgg\")\n",
    "import scipy.stats as stats\n",
    "\n",
    "eeg_path = \"/Users/ansle/Documents/GitHub/undergrad_files/\"  # You will need to change this location\n",
    "file_name = \"PhotoDiode_2024-03-22_10-24-46\"\n",
    "file_eeg = eeg_path + file_name + \".eeg\"\n",
    "file_vhdr = eeg_path + file_name + \".vhdr\"\n",
    "file_vmrk = eeg_path + file_name + \".vmrk\"\n",
    "\n",
    "# Load and plot the raw data\n",
    "raw = mne.io.read_raw_brainvision(file_vhdr)\n",
    "events, event_id = mne.events_from_annotations(raw)\n",
    "\n",
    "#raw.crop(tmin=22, tmax=190)\n",
    "#raw.plot()\n"
   ]
  },
  {
   "cell_type": "code",
   "execution_count": 177,
   "metadata": {},
   "outputs": [
    {
     "name": "stdout",
     "output_type": "stream",
     "text": [
      "Not setting metadata\n",
      "100 matching events found\n",
      "No baseline correction applied\n",
      "0 projection items activated\n",
      "Loading data for 100 events and 126 original time points ...\n",
      "0 bad epochs dropped\n"
     ]
    }
   ],
   "source": [
    "# Create epochs for checkerboard events\n",
    "\n",
    "stimulus_s1_events = events[events[:, 2] == event_id['Stimulus/s1']]\n",
    "stimulus_s1_events, event_id\n",
    "tmin, tmax = 0, 0.250  # start and end time around each event in seconds\n",
    "epochs = mne.Epochs(raw, events=stimulus_s1_events, event_id=event_id['Stimulus/s1'],\n",
    "                    tmin=tmin, tmax=tmax, baseline=None, preload=True)\n",
    "epochs = epochs.pick_channels(['BIP3'])\n"
   ]
  },
  {
   "cell_type": "code",
   "execution_count": 178,
   "metadata": {},
   "outputs": [
    {
     "name": "stdout",
     "output_type": "stream",
     "text": [
      "Mean Latency: 5.220\n",
      "95% Confidence Interval for the Latencies: (5.217806079200246, 5.222193920799754)\n",
      "Total Events: 100\n"
     ]
    }
   ],
   "source": [
    "# Calculate the FIRST latency <10% average for each epoch --> 5.22 ms\n",
    "peak_latencies = []\n",
    "for epoch in epochs.get_data():\n",
    "    mean_amplitude = np.mean(epoch)\n",
    "    screen_changes = np.argmax(epoch < (-0.1 * mean_amplitude))\n",
    "    if (epoch < (-0.1 * mean_amplitude)).any():\n",
    "        first_time = epochs.times[screen_changes]\n",
    "    else:\n",
    "        first_time = None\n",
    "    peak_latencies.append(first_time)\n",
    "\n",
    "# Calculate latencies in milliseconds\n",
    "peak_latencies_ms = np.array(peak_latencies) * 1000\n",
    "average_latency_ms = np.mean(peak_latencies_ms)\n",
    "total_events = len(peak_latencies_ms)\n",
    "\n",
    "# Calculate latency CI in milliseconds\n",
    "sem_latency = stats.sem(peak_latencies)  # SEM = std / sqrt(n)\n",
    "confidence_level = 0.95\n",
    "ci_width = sem_latency * stats.t.ppf((1 + confidence_level) / 2, len(peak_latencies_ms) - 1)\n",
    "confidence_interval = (average_latency_ms - ci_width, average_latency_ms + ci_width)\n",
    "\n",
    "print(f\"Mean Latency: {average_latency_ms:.3f}\")\n",
    "print(f\"95% Confidence Interval for the Latencies: {confidence_interval}\")\n",
    "print(f\"Total Events: {total_events}\")\n"
   ]
  },
  {
   "cell_type": "code",
   "execution_count": 179,
   "metadata": {},
   "outputs": [
    {
     "name": "stdout",
     "output_type": "stream",
     "text": [
      "Mean Latency: 5.0\n",
      "95% Confidence Interval for the Latencies: (4.997765413288609, 5.002234586711391)\n",
      "Total Events: 100\n"
     ]
    }
   ],
   "source": [
    "# Calculate the FIRST latency <40% average for each epoch --> 5.0 ms\n",
    "\n",
    "peak_latencies = []\n",
    "for epoch in epochs.get_data():\n",
    "    mean_amplitude = np.mean(epoch)\n",
    "    screen_changes = np.argmax(epoch < (-0.4 * mean_amplitude))\n",
    "    if (epoch < (-0.4 * mean_amplitude)).any():\n",
    "        first_time = epochs.times[screen_changes]\n",
    "    else:\n",
    "        first_time = None\n",
    "    peak_latencies.append(first_time)\n",
    "\n",
    "# Calculate latencies in milliseconds\n",
    "peak_latencies_ms = np.array(peak_latencies) * 1000\n",
    "average_latency_ms = np.mean(peak_latencies_ms)\n",
    "total_events = len(peak_latencies_ms)\n",
    "\n",
    "# Calculate latency CI in milliseconds\n",
    "sem_latency = stats.sem(peak_latencies)  # SEM = std / sqrt(n)\n",
    "confidence_level = 0.95\n",
    "ci_width = sem_latency * stats.t.ppf((1 + confidence_level) / 2, len(peak_latencies_ms) - 1)\n",
    "confidence_interval = (average_latency_ms - ci_width, average_latency_ms + ci_width)\n",
    "\n",
    "print(f\"Mean Latency: {average_latency_ms}\")\n",
    "print(f\"95% Confidence Interval for the Latencies: {confidence_interval}\")\n",
    "print(f\"Total Events: {total_events}\")\n"
   ]
  },
  {
   "cell_type": "code",
   "execution_count": 180,
   "metadata": {},
   "outputs": [],
   "source": [
    "# Histogram of latency distributions\n",
    "\n",
    "plt.figure(figsize=(10, 6))\n",
    "plt.hist(peak_latencies_ms, bins=10, color='skyblue', edgecolor='black')\n",
    "plt.axvline(average_latency_ms, color='red', linestyle='dashed', linewidth=2)\n",
    "plt.title('Distribution of Latencies')\n",
    "plt.xlabel('Latency (milliseconds)')\n",
    "plt.ylabel('Frequency')\n",
    "plt.legend(['Average Latency', 'Latencies'])\n",
    "plt.grid(True)\n",
    "\n",
    "plt.show()"
   ]
  },
  {
   "cell_type": "code",
   "execution_count": 181,
   "metadata": {},
   "outputs": [],
   "source": [
    "import numpy as np\n",
    "import matplotlib.pyplot as plt\n",
    "\n",
    "# Scatter plot of the latencies\n",
    "plt.figure(figsize=(10, 6))\n",
    "plt.scatter(range(len(peak_latencies_ms)), peak_latencies_ms, color='black')\n",
    "plt.axhline(average_latency_ms, color='red', linestyle='dashed', linewidth=2)\n",
    "plt.title('Latencies')\n",
    "plt.xlabel('Event')\n",
    "plt.ylabel('Latency (milliseconds)')\n",
    "plt.grid(True)\n",
    "\n",
    "plt.show()"
   ]
  },
  {
   "cell_type": "markdown",
   "metadata": {},
   "source": [
    "The rest of this code were previous attempts that don't work"
   ]
  },
  {
   "cell_type": "code",
   "execution_count": null,
   "metadata": {},
   "outputs": [],
   "source": [
    "# Don't use this, it uses an abritary cut-off of 125e-6 and \n",
    "# averages the latencies of all the peaks instead of just the first one\n",
    "\n",
    "import mne\n",
    "import numpy as np\n",
    "import matplotlib.pyplot as plt\n",
    "\n",
    "# Assuming 'raw' and 'event_id' are already defined and loaded\n",
    "\n",
    "# Update the epoch parameters for the new time window and amplitude threshold\n",
    "tmin_updated, tmax_updated = 0, 0.250\n",
    "amplitude_threshold = 125e-6  # 125 µV in Volts\n",
    "events, event_id = mne.events_from_annotations(raw)\n",
    "stimulus_s1_events = events[events[:, 2] == event_id['Stimulus/s1']]\n",
    "\n",
    "# Recreate epochs for Stimulus/s1 within the specified window\n",
    "epochs_updated = mne.Epochs(raw, events=stimulus_s1_events, event_id=event_id['Stimulus/s1'],\n",
    "                            tmin=tmin_updated, tmax=tmax_updated, preload=True, baseline=None)\n",
    "\n",
    "# Pick the BIP3 channel\n",
    "epochs_updated = epochs_updated.pick_channels(['BIP3'])\n",
    "\n",
    "# Find the first timepoint exceeding 125 µV after the stimulus in each epoch\n",
    "exceeding_threshold_latencies_updated = []\n",
    "for epoch in epochs_updated.get_data():\n",
    "    # Find the index where the amplitude first exceeds 125 µV\n",
    "    exceeding_index_updated = np.where(epoch[0, :] > amplitude_threshold)[0]\n",
    "    if exceeding_index_updated.size > 0:  # Check if there's at least one exceeding point\n",
    "        first_exceeding_time_updated = epochs_updated.times[exceeding_index_updated[0]]\n",
    "        exceeding_threshold_latencies_updated.append(first_exceeding_time_updated)\n",
    "    else:\n",
    "        exceeding_threshold_latencies_updated.append(None)\n",
    "\n",
    "# Filter out None values for calculating average and visualization\n",
    "valid_latencies_updated = [latency for latency in exceeding_threshold_latencies_updated if latency is not None]\n",
    "\n",
    "# Calculate the average latency of valid latencies\n",
    "average_latency_threshold_updated = np.mean(valid_latencies_updated) if valid_latencies_updated else 0\n",
    "\n",
    "print(f\"Number of valid latencies: {len(valid_latencies_updated)}, Average latency: {average_latency_threshold_updated}\")\n",
    "\n",
    "# Visualize the distribution of valid latencies\n",
    "plt.figure(figsize=(10, 6))\n",
    "plt.hist(valid_latencies_updated, bins=20, color='orange', edgecolor='black')\n",
    "plt.axvline(average_latency_threshold_updated, color='blue', linestyle='dashed', linewidth=2)\n",
    "plt.title('Distribution of Photodiode Peaks >125 uV (0, 0.250)')\n",
    "plt.xlabel('Latency (seconds)')\n",
    "plt.ylabel('Frequency')\n",
    "plt.legend(['Average Latency', 'Latencies'])\n",
    "plt.grid(True)\n",
    "\n",
    "plt.show()\n"
   ]
  },
  {
   "cell_type": "code",
   "execution_count": 149,
   "metadata": {},
   "outputs": [
    {
     "name": "stdout",
     "output_type": "stream",
     "text": [
      "Not setting metadata\n",
      "100 matching events found\n",
      "Setting baseline interval to [0.0, 0.25] sec\n",
      "Applying baseline correction (mode: mean)\n",
      "0 projection items activated\n",
      "Loading data for 100 events and 126 original time points ...\n",
      "0 bad epochs dropped\n",
      "Not setting metadata\n",
      "100 matching events found\n",
      "No baseline correction applied\n",
      "0 projection items activated\n"
     ]
    },
    {
     "name": "stderr",
     "output_type": "stream",
     "text": [
      "/var/folders/dv/s4k5_3r51ml3q36bgbcdsgbr0000gn/T/ipykernel_45409/3220100308.py:4: RuntimeWarning: Cannot find channel coordinates in the supplied Evokeds. Not showing channel locations.\n",
      "  epochs_time_windowed.plot_image(picks=['BIP3'], sigma=1.0, cmap='viridis',\n"
     ]
    },
    {
     "data": {
      "text/plain": [
       "[<Figure size 640x480 with 3 Axes>]"
      ]
     },
     "execution_count": 149,
     "metadata": {},
     "output_type": "execute_result"
    }
   ],
   "source": [
    "# The heat map looks weird, not sure why...\n",
    "\n",
    "epochs_time_windowed = mne.Epochs(raw, events=stimulus_s1_events, event_id=event_id['Stimulus/s1'],\n",
    "                                  tmin=0, tmax=0.250, preload=True, baseline=(None, None))\n",
    "\n",
    "epochs_time_windowed.plot_image(picks=['BIP3'], sigma=1.0, cmap='viridis', \n",
    "                          vmin=-150, vmax=150)\n"
   ]
  }
 ],
 "metadata": {
  "kernelspec": {
   "display_name": "Python 3",
   "language": "python",
   "name": "python3"
  },
  "language_info": {
   "codemirror_mode": {
    "name": "ipython",
    "version": 3
   },
   "file_extension": ".py",
   "mimetype": "text/x-python",
   "name": "python",
   "nbconvert_exporter": "python",
   "pygments_lexer": "ipython3",
   "version": "3.9.12"
  }
 },
 "nbformat": 4,
 "nbformat_minor": 2
}
