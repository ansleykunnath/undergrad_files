{
 "cells": [
  {
   "cell_type": "markdown",
   "metadata": {},
   "source": [
    "<h2>Photodiode Analysis Code</h2>\n",
    "\n",
    "Ansley Kunnath\n",
    "\n",
    "Updated 04/15/24"
   ]
  },
  {
   "cell_type": "code",
   "execution_count": 1,
   "metadata": {},
   "outputs": [
    {
     "name": "stdout",
     "output_type": "stream",
     "text": [
      "Extracting parameters from Data/Subject_Example_2024-03-29_10-59-19.vhdr...\n",
      "Setting channel info structure...\n",
      "Used Annotations descriptions: ['Marker/Impedance', 'New Segment/', 'Stimulus/s1', 'Stimulus/s2', 'Stimulus/s3', 'Stimulus/s5']\n"
     ]
    },
    {
     "name": "stderr",
     "output_type": "stream",
     "text": [
      "/var/folders/dv/s4k5_3r51ml3q36bgbcdsgbr0000gn/T/ipykernel_90302/4218519382.py:21: RuntimeWarning: Limited 1 annotation(s) that were expanding outside the data range.\n",
      "  raw = mne.io.read_raw_brainvision(file_vhdr)\n"
     ]
    }
   ],
   "source": [
    "# Load data\n",
    "########## Run with Python 3.9.12 (for Ansley)\n",
    "\n",
    "import mne\n",
    "import numpy as np\n",
    "import matplotlib\n",
    "import matplotlib.pyplot as plt\n",
    "matplotlib.use(\"TkAgg\")\n",
    "import scipy.stats as stats\n",
    "\n",
    "########## You may need to change the path and file name:\n",
    "eeg_path = \"Data/\"  \n",
    "#file_name = \"PhotoDiode_2024-03-22_10-24-46\"\n",
    "#file_name = \"Subject_Example_2024-03-29_10-51-49\" \n",
    "file_name = \"Subject_Example_2024-03-29_10-59-19\"\n",
    "file_eeg = eeg_path + file_name + \".eeg\"\n",
    "file_vhdr = eeg_path + file_name + \".vhdr\"\n",
    "file_vmrk = eeg_path + file_name + \".vmrk\"\n",
    "\n",
    "# Load and plot the raw data\n",
    "raw = mne.io.read_raw_brainvision(file_vhdr)\n",
    "events, event_id = mne.events_from_annotations(raw)\n",
    "\n",
    "#raw.crop(tmin=22, tmax=190)\n",
    "#raw.plot()"
   ]
  },
  {
   "cell_type": "code",
   "execution_count": 2,
   "metadata": {},
   "outputs": [
    {
     "name": "stdout",
     "output_type": "stream",
     "text": [
      "Not setting metadata\n",
      "100 matching events found\n",
      "No baseline correction applied\n",
      "0 projection items activated\n",
      "Loading data for 100 events and 126 original time points ...\n",
      "0 bad epochs dropped\n"
     ]
    }
   ],
   "source": [
    "# Create epochs for checkerboard events\n",
    "\n",
    "stimulus_s1_events = events[events[:, 2] == event_id['Stimulus/s1']]\n",
    "stimulus_s1_events, event_id\n",
    "tmin, tmax = 0, 0.250  \n",
    "epochs = mne.Epochs(raw, events=stimulus_s1_events, event_id=event_id['Stimulus/s1'],\n",
    "                    tmin=tmin, tmax=tmax, baseline=None, preload=True)\n",
    "epochs = epochs.pick_channels(['BIP3'])\n",
    "\n",
    "#epochs.plot() "
   ]
  },
  {
   "cell_type": "code",
   "execution_count": 3,
   "metadata": {},
   "outputs": [
    {
     "name": "stdout",
     "output_type": "stream",
     "text": [
      "No exceedance found in epoch 19\n",
      "No exceedance found in epoch 39\n",
      "No exceedance found in epoch 59\n",
      "No exceedance found in epoch 79\n",
      "No exceedance found in epoch 99\n",
      "\n",
      "Median Latency: 72 ms\n",
      "95% Confidence Interval: (67.693, 76.307)\n",
      "Total Events: 95 out of 100\n"
     ]
    }
   ],
   "source": [
    "# Calculate the first latency that exceeds # of MADs for each epoch \n",
    "\n",
    "########## CHANGE MAD_FACTOR\n",
    "mad_factor = 4 # or 2 to be less strict\n",
    "\n",
    "median_amplitude = []\n",
    "first_time = []\n",
    "peak_latencies = []\n",
    "\n",
    "for index, epoch in enumerate(epochs.get_data()):\n",
    "    positive_epoch = abs(epoch)*1000\n",
    "    median_amplitude = np.median(positive_epoch)\n",
    "    mad = np.median(np.abs(positive_epoch - median_amplitude))\n",
    "    threshold = median_amplitude + (mad_factor * mad)\n",
    "    exceed_index = np.argmax(positive_epoch > threshold)\n",
    "    if exceed_index > 0:\n",
    "        first_time = epochs.times[exceed_index] \n",
    "    else:\n",
    "        first_time = None \n",
    "        print(f\"No exceedance found in epoch {index}\") \n",
    "    peak_latencies.append(first_time)\n",
    "\n",
    "# Calculate latencies in milliseconds\n",
    "peak_latencies_ms = np.array([lat * 1000 if lat is not None else None for lat in peak_latencies])\n",
    "valid_latencies = peak_latencies_ms[peak_latencies_ms != np.array(None)]\n",
    "total_events = len(valid_latencies)\n",
    "\n",
    "# Calculate latency CI in milliseconds\n",
    "ncies_ms = np.array([lat * 1000 if lat is not None else None for lat in peak_latencies])\n",
    "valid_latencies = peak_latencies_ms[peak_latencies_ms != np.array(None)]\n",
    "\n",
    "# Calculate average and confidence interval only for valid latencies\n",
    "if len(valid_latencies) > 0:\n",
    "    median_latency_ms = np.median(valid_latencies)\n",
    "    sem_latency = stats.sem(valid_latencies)  # SEM = std / sqrt(n)\n",
    "    confidence_level = 0.95\n",
    "    ci_width = sem_latency * stats.t.ppf((1 + confidence_level) / 2, len(valid_latencies) - 1)\n",
    "    confidence_interval = (median_latency_ms - ci_width, median_latency_ms + ci_width)\n",
    "else:\n",
    "    median_latency_ms = None\n",
    "    confidence_interval = (None, None)\n",
    "\n",
    "print(\"\")\n",
    "print(f\"Median Latency: {median_latency_ms:.0f} ms\")\n",
    "print(f\"95% Confidence Interval: ({confidence_interval[0]:.3f}, {confidence_interval[1]:.3f})\")\n",
    "print(f\"Total Events: {total_events} out of 100\")\n"
   ]
  },
  {
   "cell_type": "code",
   "execution_count": 6,
   "metadata": {},
   "outputs": [],
   "source": [
    "# Plot individual epochs\n",
    "\n",
    "########## CHANGE X_VALUES BASED ON WHICH EPOCHS DID NOT EXCEED THE THRESHOLD\n",
    "x_values = [1, 2, 3, 4, 5]\n",
    "\n",
    "fig, axes = plt.subplots(len(x_values), 1, figsize=(10, 10), sharex=True, sharey=False)\n",
    "for i, x in enumerate(x_values):\n",
    "    epoch = epochs.get_data()[x]\n",
    "    abs_epoch = abs(epoch[0]) * 1000 \n",
    "    median_amplitude = np.median(abs_epoch)\n",
    "    mad = np.median(np.abs(abs_epoch - median_amplitude))\n",
    "    threshold = median_amplitude + (mad_factor * mad)\n",
    "    times_in_ms = epochs.times * 1000\n",
    "    exceed_index = np.argmax(abs_epoch > threshold)\n",
    "    if exceed_index > 0:\n",
    "        first_time = epochs.times[exceed_index] * 1000 \n",
    "    else:\n",
    "        first_time = None  # No point exceeded the threshold\n",
    "    \n",
    "    min_time = min(times_in_ms)\n",
    "    max_time = max(times_in_ms)\n",
    "    vertical_lines = np.arange(min_time, max_time, 2)\n",
    "\n",
    "    axes[i].plot(times_in_ms, abs_epoch)\n",
    "    axes[i].axvline(x=first_time if first_time is not None else 0, color='black', \n",
    "        label=f\"Screen Change: {first_time:.2f} ms\" if first_time is not None else \"Screen Change: None\")\n",
    "    axes[i].axhline(y=threshold, color='r', linestyle='--', label=f\"Threshold: {threshold:.2f} mV\")\n",
    "    axes[i].axhline(y=median_amplitude, color='b', linestyle='--', label=f\"Median: {median_amplitude:.2f} mV\")\n",
    "    for line in vertical_lines:\n",
    "        axes[i].axvline(x=line, color='gray', linestyle='--', linewidth=0.5, alpha=0.5)\n",
    "    axes[i].set_title(f\"Epoch {x}\")\n",
    "    axes[i].legend()\n",
    "\n",
    "plt.xlabel(\"Time (ms)\")\n",
    "plt.ylabel(\"Amplitude (mV)\")\n",
    "plt.savefig('Plot Epochs.png')\n",
    "plt.show()\n"
   ]
  },
  {
   "cell_type": "code",
   "execution_count": 40,
   "metadata": {},
   "outputs": [],
   "source": [
    "# Histogram of latency distributions\n",
    "\n",
    "########## SET BIN SIZE\n",
    "num_bins = 6 \n",
    "\n",
    "plt.figure(figsize=(10, 6))\n",
    "bin_edges = np.linspace(min(valid_latencies), max(valid_latencies), num_bins + 1)\n",
    "rounded_bin_edges = np.round(bin_edges)\n",
    "n, bins, patches = plt.hist(valid_latencies, bins=bin_edges, edgecolor='black', linewidth=1.5)\n",
    "plt.xticks(rounded_bin_edges)\n",
    "for count, x in zip(n, bins[:-1]):\n",
    "    plt.text(x + (bins[1]-bins[0])/2, count, str(int(count)), ha='center', va='bottom')\n",
    "plt.title('Histogram of Latencies')\n",
    "plt.xlabel('Latency (ms)')\n",
    "plt.ylabel('Frequency')\n",
    "plt.savefig('Histogram.png')\n",
    "plt.show()\n"
   ]
  },
  {
   "cell_type": "code",
   "execution_count": 41,
   "metadata": {},
   "outputs": [],
   "source": [
    "# Scatter plot of the latencies\n",
    "\n",
    "plt.figure(figsize=(10, 6))\n",
    "plt.scatter(range(len(valid_latencies)), valid_latencies, color='black')\n",
    "plt.axhline(median_latency_ms, color='red', linestyle='dashed', linewidth=2)\n",
    "plt.title('Scatter Plot of Latencies')\n",
    "plt.xlabel('Event')\n",
    "plt.ylabel('Latency (ms)')\n",
    "plt.grid(True)\n",
    "plt.savefig('Scatter Plot.png')\n",
    "plt.show()\n"
   ]
  },
  {
   "cell_type": "code",
   "execution_count": null,
   "metadata": {},
   "outputs": [],
   "source": []
  }
 ],
 "metadata": {
  "kernelspec": {
   "display_name": "Python 3",
   "language": "python",
   "name": "python3"
  },
  "language_info": {
   "codemirror_mode": {
    "name": "ipython",
    "version": 3
   },
   "file_extension": ".py",
   "mimetype": "text/x-python",
   "name": "python",
   "nbconvert_exporter": "python",
   "pygments_lexer": "ipython3",
   "version": "3.9.12"
  }
 },
 "nbformat": 4,
 "nbformat_minor": 2
}
