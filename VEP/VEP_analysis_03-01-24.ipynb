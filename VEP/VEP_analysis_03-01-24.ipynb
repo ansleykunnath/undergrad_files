{
 "cells": [
  {
   "cell_type": "code",
   "execution_count": null,
   "metadata": {},
   "outputs": [],
   "source": [
    "import mne\n",
    "import numpy as np\n",
    "from mne.preprocessing import (ICA)\n",
    "from autoreject import AutoReject\n",
    "import matplotlib\n",
    "matplotlib.use(\"TkAgg\")\n"
   ]
  },
  {
   "cell_type": "code",
   "execution_count": null,
   "metadata": {},
   "outputs": [],
   "source": [
    "eeg_path = \"C://Users//neuro//Documents//Git_EEG_Workshop//EEG_Workshop//Data//\"  # You will need to change this location\n",
    "file_name = \"VEP_2024-07-05_15-17-52\"\n",
    "file_eeg = eeg_path + file_name + \".eeg\"\n",
    "file_vhdr = eeg_path + file_name + \".vhdr\"\n",
    "file_vmrk = eeg_path + file_name + \".vmrk\""
   ]
  },
  {
   "cell_type": "code",
   "execution_count": null,
   "metadata": {},
   "outputs": [],
   "source": [
    "raw = mne.io.read_raw_brainvision(file_vhdr)\n",
    "#drop_channels = ['BIP1','BIP2','EOG','TEMP1','ACC1','ACC2','ACC3']\n",
    "#raw = raw.drop_channels(drop_channels)\n",
    "#raw.plot()\n",
    "events_from_annot, event_dict = mne.events_from_annotations(raw)\n",
    "del event_dict['Stimulus/s5']"
   ]
  },
  {
   "cell_type": "code",
   "execution_count": null,
   "metadata": {},
   "outputs": [],
   "source": [
    "highpass = 1\n",
    "lowpass = 20\n",
    "notch = 60\n",
    "\n",
    "raw_filtered = raw.load_data().filter(highpass, lowpass).notch_filter(np.arange(notch, (notch * 3), notch))\n",
    "#raw_filtered = raw.resample(resample).filter(highpass, lowpass).notch_filter(np.arange(notch, (notch * 3), notch))\n",
    "\n",
    "eeg_1020 = raw_filtered.copy().set_eeg_reference(ref_channels = 'average') # ref_channels='['Fz']'\n",
    "ten_twenty_montage = mne.channels.make_standard_montage('standard_1020')\n",
    "eeg_1020 = eeg_1020.set_montage(ten_twenty_montage, on_missing = 'ignore')\n",
    "#del raw, raw_filtered, ten_twenty_montage\n",
    "eeg_1020.info['bads'] = []\n",
    "picks = mne.pick_types(eeg_1020.info, meg=False, eeg=True, stim=False, eog=False, include=[], exclude=[])\n",
    "\n",
    "epochs = mne.Epochs(eeg_1020,\n",
    "                    events=events_from_annot,\n",
    "                    event_id=event_dict,\n",
    "                    tmin=-0.050,\n",
    "                    tmax=0.500,   #duration of stimulus or response\n",
    "                    baseline=None,\n",
    "                    reject=None,\n",
    "                    verbose=False,\n",
    "                    preload=True,\n",
    "                    detrend=None,\n",
    "                    event_repeated='drop')\n"
   ]
  },
  {
   "cell_type": "code",
   "execution_count": null,
   "metadata": {},
   "outputs": [],
   "source": [
    "n_interpolates = np.array([1, 4, 32])\n",
    "consensus_percs = np.linspace(0, 1.0, 11)\n",
    "ar = AutoReject(n_interpolates,\n",
    "                consensus_percs,\n",
    "                picks=picks,\n",
    "                thresh_method='random_search',\n",
    "                random_state=42)    #random n state\n",
    "epochs_ar = ar.fit_transform(epochs);\n"
   ]
  },
  {
   "cell_type": "code",
   "execution_count": null,
   "metadata": {},
   "outputs": [],
   "source": [
    "ica = ICA(n_components = 16, max_iter = 'auto', random_state = 123)\n",
    "ica.fit(epochs_ar)\n",
    "\n",
    "ica_z_thresh = 1.96\n",
    "epochs_clean = epochs_ar.copy()\n",
    "eog_indices, eog_scores = ica.find_bads_eog(epochs_clean,\n",
    "                                            ch_name=['Fp1', 'F8'],\n",
    "                                            threshold=ica_z_thresh)\n",
    "ica.exclude = eog_indices\n",
    "ica.plot_scores(eog_scores)\n",
    "ica.plot_sources(epochs_ar)\n",
    "ica.plot_components()\n",
    "print(eog_indices)\n",
    "ica.apply(epochs_clean)\n",
    "epochs_final = epochs_clean.copy()\n",
    "#del eeg_1020, epochs, epochs_ar, eog_indices, eog_scores\n"
   ]
  },
  {
   "cell_type": "code",
   "execution_count": null,
   "metadata": {},
   "outputs": [],
   "source": [
    "baseline_tmin, baseline_tmax = -0.05, 0\n",
    "baseline = (baseline_tmin, baseline_tmax)\n",
    "\n",
    "VEP = epochs_final['Stimulus/s1'].apply_baseline(baseline).average()\n",
    "blank = epochs_final['Stimulus/s2'].apply_baseline(baseline).average()\n",
    "\n",
    "fig = mne.viz.plot_compare_evokeds(VEP, picks=['Oz','O1','O2'], combine=\"mean\", show=False, time_unit=\"ms\")\n",
    "fig[0].savefig(\"VEP Data/\"+file_name+\"-VEP_Occipital\")\n",
    "\n",
    "fig = mne.viz.plot_compare_evokeds(VEP, picks=['O1','O2'], combine=\"mean\", show=False, time_unit=\"ms\")\n",
    "fig[0].savefig(\"VEP Data/\"+file_name+\"-VEP_O1_O2\")\n",
    "\n",
    "fig = mne.viz.plot_compare_evokeds(VEP, picks=['Oz'], show=False, time_unit=\"ms\")\n",
    "fig[0].savefig(\"VEP Data/\"+file_name+\"-VEP_Oz\")"
   ]
  },
  {
   "cell_type": "code",
   "execution_count": null,
   "metadata": {},
   "outputs": [],
   "source": [
    "evokeds = dict(\n",
    "    Checkerboard=list(epochs_final['Stimulus/s1'].iter_evoked()),\n",
    "    Blank=list(epochs_final['Stimulus/s2'].iter_evoked()),\n",
    ")\n",
    "\n",
    "fig = mne.viz.plot_compare_evokeds(evokeds, \n",
    "                                   colors=dict(Checkerboard=\"red\", Blank=\"black\"), \n",
    "                                   ci=False, #0.95\n",
    "                                   picks=['Oz','O1','O2'], time_unit=\"ms\", combine=\"mean\")\n",
    "fig[0].savefig(\"VEP Data/\"+file_name+\"-Compare_Stimuli\")"
   ]
  },
  {
   "cell_type": "code",
   "execution_count": null,
   "metadata": {},
   "outputs": [],
   "source": []
  }
 ],
 "metadata": {
  "kernelspec": {
   "display_name": "Python 3",
   "language": "python",
   "name": "python3"
  },
  "language_info": {
   "codemirror_mode": {
    "name": "ipython",
    "version": 3
   },
   "file_extension": ".py",
   "mimetype": "text/x-python",
   "name": "python",
   "nbconvert_exporter": "python",
   "pygments_lexer": "ipython3",
   "version": "3.9.0"
  }
 },
 "nbformat": 4,
 "nbformat_minor": 2
}
