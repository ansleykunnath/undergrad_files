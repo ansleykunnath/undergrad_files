{
 "cells": [
  {
   "cell_type": "markdown",
   "metadata": {},
   "source": [
    "<h2>Photodiode Analysis Code</h2>\n",
    "\n",
    "Ansley Kunnath & Andrew Kim\n",
    "\n",
    "Updated 07/05/24"
   ]
  },
  {
   "cell_type": "code",
   "execution_count": 1,
   "metadata": {},
   "outputs": [
    {
     "name": "stdout",
     "output_type": "stream",
     "text": [
      "Extracting parameters from C://Users//neuro//Documents//Git_EEG_Workshop//EEG_Workshop//Data//VEP_Test2.vhdr...\n",
      "Setting channel info structure...\n",
      "Used Annotations descriptions: ['Marker/Impedance', 'New Segment/', 'Stimulus/s1', 'Stimulus/s2', 'Stimulus/s5']\n",
      "Reading 0 ... 178208  =      0.000 ...   178.208 secs...\n",
      "Filtering raw data in 1 contiguous segment\n",
      "Setting up low-pass filter at 40 Hz\n",
      "\n",
      "FIR filter parameters\n",
      "---------------------\n",
      "Designing a one-pass, zero-phase, non-causal lowpass filter:\n",
      "- Windowed time-domain design (firwin) method\n",
      "- Hamming window with 0.0194 passband ripple and 53 dB stopband attenuation\n",
      "- Upper passband edge: 40.00 Hz\n",
      "- Upper transition bandwidth: 10.00 Hz (-6 dB cutoff frequency: 45.00 Hz)\n",
      "- Filter length: 331 samples (0.331 s)\n",
      "\n"
     ]
    },
    {
     "name": "stderr",
     "output_type": "stream",
     "text": [
      "C:\\Users\\neuro\\AppData\\Local\\Temp\\ipykernel_13896\\2000016813.py:21: RuntimeWarning: Limited 1 annotation(s) that were expanding outside the data range.\n",
      "  raw = mne.io.read_raw_brainvision(file_vhdr)\n",
      "[Parallel(n_jobs=1)]: Done  17 tasks      | elapsed:    0.0s\n",
      "[Parallel(n_jobs=1)]: Done  71 tasks      | elapsed:    0.1s\n"
     ]
    },
    {
     "name": "stdout",
     "output_type": "stream",
     "text": [
      "Using matplotlib as 2D backend.\n"
     ]
    },
    {
     "data": {
      "text/plain": [
       "<MNEBrowseFigure size 1605x800 with 4 Axes>"
      ]
     },
     "execution_count": 1,
     "metadata": {},
     "output_type": "execute_result"
    },
    {
     "name": "stdout",
     "output_type": "stream",
     "text": [
      "Channels marked as bad:\n",
      "none\n"
     ]
    }
   ],
   "source": [
    "# Load data\n",
    "########## Run with Python 3.9.12 (for Ansley)\n",
    "\n",
    "import mne\n",
    "import numpy as np\n",
    "import matplotlib\n",
    "import matplotlib.pyplot as plt\n",
    "matplotlib.use(\"TkAgg\")\n",
    "import scipy.stats as stats\n",
    "#json import needed\n",
    "import json\n",
    "\n",
    "########## You may need to change the path and file name:\n",
    "eeg_path = \"C://Users//neuro//Documents//Git_EEG_Workshop//EEG_Workshop//Data//\" \n",
    "file_name = \"VEP_Test2\"\n",
    "file_eeg = eeg_path + file_name + \".eeg\"\n",
    "file_vhdr = eeg_path + file_name + \".vhdr\"\n",
    "file_vmrk = eeg_path + file_name + \".vmrk\"\n",
    "\n",
    "# Load and plot the raw data\n",
    "raw = mne.io.read_raw_brainvision(file_vhdr)\n",
    "events, event_id = mne.events_from_annotations(raw)\n",
    "raw2 = raw.load_data().filter(l_freq=None, h_freq=40)\n",
    "\n",
    "#raw.crop(tmin=22, tmax=190)\n",
    "raw2.plot(picks=\"EKG\")"
   ]
  },
  {
   "cell_type": "code",
   "execution_count": 2,
   "metadata": {},
   "outputs": [
    {
     "name": "stdout",
     "output_type": "stream",
     "text": [
      "Not setting metadata\n",
      "50 matching events found\n",
      "No baseline correction applied\n",
      "0 projection items activated\n",
      "Using data from preloaded Raw for 50 events and 501 original time points ...\n",
      "0 bad epochs dropped\n",
      "NOTE: pick_channels() is a legacy function. New code should use inst.pick(...).\n"
     ]
    }
   ],
   "source": [
    "# Create epochs for checkerboard events\n",
    "\n",
    "stimulus_s1_events = events[events[:, 2] == event_id['Stimulus/s2']]\n",
    "stimulus_s1_events, event_id\n",
    "tmin, tmax = 0, 0.500 \n",
    "epochs = mne.Epochs(raw2, events=stimulus_s1_events, event_id=event_id['Stimulus/s2'],\n",
    "                    tmin=tmin, tmax=tmax, baseline=None, preload=True)\n",
    "epochs = epochs.pick_channels(['EKG'])\n",
    "\n",
    "#epochs.plot() "
   ]
  },
  {
   "cell_type": "code",
   "execution_count": 5,
   "metadata": {},
   "outputs": [
    {
     "name": "stdout",
     "output_type": "stream",
     "text": [
      "Median Latency: 309 ms\n",
      "95% Confidence Interval: (300.351, 317.649)\n",
      "Total Events: 50 out of 50\n",
      "Photodiode latencies saved to photodiode_latencies.json\n"
     ]
    },
    {
     "name": "stderr",
     "output_type": "stream",
     "text": [
      "C:\\Users\\neuro\\AppData\\Local\\Temp\\ipykernel_13896\\77721173.py:10: FutureWarning: The current default of copy=False will change to copy=True in 1.7. Set the value of copy explicitly to avoid this warning\n",
      "  for index, epoch in enumerate(epochs.get_data()):\n"
     ]
    }
   ],
   "source": [
    "# Calculate the first latency that exceeds # of MADs for each epoch \n",
    "\n",
    "########## CHANGE MAD_FACTOR\n",
    "mad_factor = 4 # or 2 to be less strict\n",
    "\n",
    "median_amplitude = []\n",
    "first_time = []\n",
    "peak_latencies = []\n",
    "\n",
    "for index, epoch in enumerate(epochs.get_data()):\n",
    "    positive_epoch = abs(epoch)*1000\n",
    "    median_amplitude = np.median(positive_epoch)\n",
    "    mad = np.median(np.abs(positive_epoch - median_amplitude))\n",
    "    threshold = median_amplitude + (mad_factor * mad)\n",
    "    exceed_index = np.argmax(positive_epoch > threshold)\n",
    "    if exceed_index > 0:\n",
    "        first_time = epochs.times[exceed_index] \n",
    "    else:\n",
    "        first_time = None \n",
    "        print(f\"No exceedance found in epoch {index}\") \n",
    "    peak_latencies.append(first_time)\n",
    "\n",
    "# Calculate latencies in milliseconds\n",
    "peak_latencies_ms = np.array([lat * 1000 if lat is not None else None for lat in peak_latencies])\n",
    "valid_latencies = peak_latencies_ms[peak_latencies_ms != np.array(None)]\n",
    "total_events = len(valid_latencies)\n",
    "\n",
    "# Calculate average and confidence interval only for valid latencies\n",
    "if len(valid_latencies) > 0:\n",
    "    median_latency_ms = np.median(valid_latencies)\n",
    "    sem_latency = stats.sem(valid_latencies)  # SEM = std / sqrt(n)\n",
    "    confidence_level = 0.95\n",
    "    ci_width = sem_latency * stats.t.ppf((1 + confidence_level) / 2, len(valid_latencies) - 1)\n",
    "    confidence_interval = (median_latency_ms - ci_width, median_latency_ms + ci_width)\n",
    "else:\n",
    "    median_latency_ms = None\n",
    "    confidence_interval = (None, None)\n",
    "\n",
    "print(f\"Median Latency: {median_latency_ms:.0f} ms\")\n",
    "print(f\"95% Confidence Interval: ({confidence_interval[0]:.3f}, {confidence_interval[1]:.3f})\")\n",
    "print(f\"Total Events: {total_events} out of 50\")\n",
    "\n",
    "#save the latency values separately\n",
    "peak_latencies_ms = [lat * 1000 if lat is not None else None for lat in peak_latencies]\n",
    "with open('photodiode_latencies.json', 'w') as f:\n",
    "    json.dump(peak_latencies_ms, f)\n",
    "\n",
    "print(\"Photodiode latencies saved to photodiode_latencies.json\")"
   ]
  },
  {
   "cell_type": "code",
   "execution_count": 4,
   "metadata": {},
   "outputs": [
    {
     "name": "stderr",
     "output_type": "stream",
     "text": [
      "C:\\Users\\neuro\\AppData\\Local\\Temp\\ipykernel_13896\\2414058590.py:8: FutureWarning: The current default of copy=False will change to copy=True in 1.7. Set the value of copy explicitly to avoid this warning\n",
      "  epoch = epochs.get_data()[x]\n",
      "C:\\Users\\neuro\\AppData\\Local\\Temp\\ipykernel_13896\\2414058590.py:8: FutureWarning: The current default of copy=False will change to copy=True in 1.7. Set the value of copy explicitly to avoid this warning\n",
      "  epoch = epochs.get_data()[x]\n",
      "C:\\Users\\neuro\\AppData\\Local\\Temp\\ipykernel_13896\\2414058590.py:8: FutureWarning: The current default of copy=False will change to copy=True in 1.7. Set the value of copy explicitly to avoid this warning\n",
      "  epoch = epochs.get_data()[x]\n",
      "C:\\Users\\neuro\\AppData\\Local\\Temp\\ipykernel_13896\\2414058590.py:8: FutureWarning: The current default of copy=False will change to copy=True in 1.7. Set the value of copy explicitly to avoid this warning\n",
      "  epoch = epochs.get_data()[x]\n",
      "C:\\Users\\neuro\\AppData\\Local\\Temp\\ipykernel_13896\\2414058590.py:8: FutureWarning: The current default of copy=False will change to copy=True in 1.7. Set the value of copy explicitly to avoid this warning\n",
      "  epoch = epochs.get_data()[x]\n"
     ]
    }
   ],
   "source": [
    "# Plot individual epochs\n",
    "\n",
    "########## CHANGE X_VALUES BASED ON WHICH EPOCHS DID NOT EXCEED THE THRESHOLD\n",
    "x_values = [1, 2, 3, 4, 5]\n",
    "\n",
    "fig, axes = plt.subplots(len(x_values), 1, figsize=(10, 10), sharex=True, sharey=False)\n",
    "for i, x in enumerate(x_values):\n",
    "    epoch = epochs.get_data()[x]\n",
    "    abs_epoch = abs(epoch[0]) * 1000 \n",
    "    median_amplitude = np.median(abs_epoch)\n",
    "    mad = np.median(np.abs(abs_epoch - median_amplitude))\n",
    "    threshold = median_amplitude + (mad_factor * mad)\n",
    "    times_in_ms = epochs.times * 1000\n",
    "    exceed_index = np.argmax(abs_epoch > threshold)\n",
    "    if exceed_index > 0:\n",
    "        first_time = epochs.times[exceed_index] * 1000 \n",
    "    else:\n",
    "        first_time = None  # No point exceeded the threshold\n",
    "    \n",
    "    min_time = min(times_in_ms)\n",
    "    max_time = max(times_in_ms)\n",
    "    vertical_lines = np.arange(min_time, max_time, 2)\n",
    "\n",
    "    axes[i].plot(times_in_ms, abs_epoch)\n",
    "    axes[i].axvline(x=first_time if first_time is not None else 0, color='black', \n",
    "        label=f\"Screen Change: {first_time:.2f} ms\" if first_time is not None else \"Screen Change: None\")\n",
    "    axes[i].axhline(y=threshold, color='r', linestyle='--', label=f\"Threshold: {threshold:.2f} mV\")\n",
    "    axes[i].axhline(y=median_amplitude, color='b', linestyle='--', label=f\"Median: {median_amplitude:.2f} mV\")\n",
    "    for line in vertical_lines:\n",
    "        axes[i].axvline(x=line, color='gray', linestyle='--', linewidth=0.5, alpha=0.5)\n",
    "    axes[i].set_title(f\"Epoch {x}\")\n",
    "    axes[i].legend()\n",
    "\n",
    "plt.xlabel(\"Time (ms)\")\n",
    "plt.ylabel(\"Amplitude (mV)\")\n",
    "plt.savefig('Plot Epochs.png')\n",
    "plt.show()\n"
   ]
  },
  {
   "cell_type": "code",
   "execution_count": null,
   "metadata": {},
   "outputs": [],
   "source": [
    "# Histogram of latency distributions\n",
    "\n",
    "########## SET BIN SIZE\n",
    "num_bins = 6 \n",
    "\n",
    "plt.figure(figsize=(10, 6))\n",
    "bin_edges = np.linspace(min(valid_latencies), max(valid_latencies), num_bins + 1)\n",
    "rounded_bin_edges = np.round(bin_edges)\n",
    "n, bins, patches = plt.hist(valid_latencies, bins=bin_edges, edgecolor='black', linewidth=1.5)\n",
    "plt.xticks(rounded_bin_edges)\n",
    "for count, x in zip(n, bins[:-1]):\n",
    "    plt.text(x + (bins[1]-bins[0])/2, count, str(int(count)), ha='center', va='bottom')\n",
    "plt.title('Histogram of Latencies')\n",
    "plt.xlabel('Latency (ms)')\n",
    "plt.ylabel('Frequency')\n",
    "plt.savefig('Histogram.png')\n",
    "plt.show()\n"
   ]
  },
  {
   "cell_type": "code",
   "execution_count": 6,
   "metadata": {},
   "outputs": [],
   "source": [
    "# Scatter plot of the latencies\n",
    "\n",
    "plt.figure(figsize=(10, 6))\n",
    "plt.scatter(range(len(valid_latencies)), valid_latencies, color='black')\n",
    "plt.axhline(median_latency_ms, color='red', linestyle='dashed', linewidth=2)\n",
    "plt.title('Scatter Plot of Latencies')\n",
    "plt.xlabel('Event')\n",
    "plt.ylabel('Latency (ms)')\n",
    "plt.grid(True)\n",
    "plt.savefig('Scatter Plot.png')\n",
    "plt.show()"
   ]
  },
  {
   "cell_type": "code",
   "execution_count": 12,
   "metadata": {},
   "outputs": [
    {
     "name": "stdout",
     "output_type": "stream",
     "text": [
      "Not setting metadata\n",
      "50 matching events found\n",
      "No baseline correction applied\n",
      "0 projection items activated\n",
      "Using data from preloaded Raw for 50 events and 601 original time points ...\n",
      "0 bad epochs dropped\n",
      "combining channels using \"mean\"\n",
      "combining channels using \"mean\"\n"
     ]
    },
    {
     "name": "stderr",
     "output_type": "stream",
     "text": [
      "C:\\Users\\neuro\\AppData\\Local\\Temp\\ipykernel_13896\\3789611397.py:32: RuntimeWarning: The events passed to the Epochs constructor are not chronologically ordered.\n",
      "  epochs = mne.Epochs(raw, events=adjusted_events, event_id=event_id, tmin=tmin, tmax=tmax, baseline=None, preload=True)\n",
      "C:\\Users\\neuro\\AppData\\Local\\Temp\\ipykernel_13896\\3789611397.py:46: RuntimeWarning: Only 1 channel in \"picks\"; cannot combine by method \"mean\".\n",
      "  fig = mne.viz.plot_compare_evokeds(VEP, picks=['Z13'], combine=\"mean\", show=False, time_unit=\"ms\")\n",
      "C:\\Users\\neuro\\AppData\\Local\\Temp\\ipykernel_13896\\3789611397.py:46: RuntimeWarning: Cannot find channel coordinates in the supplied Evokeds. Not showing channel locations.\n",
      "  fig = mne.viz.plot_compare_evokeds(VEP, picks=['Z13'], combine=\"mean\", show=False, time_unit=\"ms\")\n",
      "C:\\Users\\neuro\\AppData\\Local\\Temp\\ipykernel_13896\\3789611397.py:48: RuntimeWarning: Only 1 channel in \"picks\"; cannot combine by method \"mean\".\n",
      "  fig = mne.viz.plot_compare_evokeds(VEP, picks=['EKG'], combine=\"mean\", show=False, time_unit=\"ms\")\n",
      "C:\\Users\\neuro\\AppData\\Local\\Temp\\ipykernel_13896\\3789611397.py:48: RuntimeWarning: Cannot find channel coordinates in the supplied Evokeds. Not showing channel locations.\n",
      "  fig = mne.viz.plot_compare_evokeds(VEP, picks=['EKG'], combine=\"mean\", show=False, time_unit=\"ms\")\n"
     ]
    }
   ],
   "source": [
    "import mne\n",
    "import numpy as np\n",
    "from mne.preprocessing import (ICA)\n",
    "#from autoreject import AutoReject\n",
    "import matplotlib\n",
    "\n",
    "#for storing and exchanging data\n",
    "import json\n",
    "matplotlib.use(\"TkAgg\")\n",
    "\n",
    "#load the photodiode latency data\n",
    "with open('photodiode_latencies.json', 'r') as f:\n",
    "    photodiode_latencies = json.load(f)\n",
    "\n",
    "# Adjust epoch start times based on photodiode latencies\n",
    "adjusted_events = []\n",
    "for event, latency in zip(events, photodiode_latencies):\n",
    "    if latency is not None:\n",
    "        adjusted_event = event.copy()\n",
    "        adjusted_event[0] += int(latency)  # Adjusting event start time by photodiode latency\n",
    "        adjusted_events.append(adjusted_event)\n",
    "\n",
    "adjusted_events = np.array(adjusted_events)\n",
    "\n",
    "# Create epochs with adjusted events\n",
    "#highpass = 0.2\n",
    "#lowpass = 40\n",
    "#notch = 60\n",
    "#raw_filtered = raw.load_data().filter(highpass, lowpass).notch_filter(np.arange(notch, (notch * 3), notch))\n",
    "\n",
    "tmin, tmax = -0.100, 0.500\n",
    "epochs = mne.Epochs(raw, events=adjusted_events, event_id=event_id, tmin=tmin, tmax=tmax, baseline=None, preload=True)\n",
    "\n",
    "# Continue with VEP analysis as usual\n",
    "#evoked = epochs.average()\n",
    "#evoked.plot()\n",
    "\n",
    "#baseline_tmin, baseline_tmax = -0.050, 0\n",
    "#baseline = (baseline_tmin, baseline_tmax)\n",
    "#VEP = epochs['Stimulus/s2'].apply_baseline(baseline).average()\n",
    "#blank = epochs['Stimulus/s1'].apply_baseline(baseline).average()\n",
    "\n",
    "VEP = epochs['Stimulus/s2'].average()\n",
    "blank = epochs['Stimulus/s1'].average()\n",
    "\n",
    "fig = mne.viz.plot_compare_evokeds(VEP, picks=['Z13'], combine=\"mean\", show=False, time_unit=\"ms\")\n",
    "fig[0].savefig(\"VEP_Z13\")\n",
    "fig = mne.viz.plot_compare_evokeds(VEP, picks=['EKG'], combine=\"mean\", show=False, time_unit=\"ms\")\n",
    "fig[0].savefig(\"VEP_EKG\")"
   ]
  },
  {
   "cell_type": "code",
   "execution_count": null,
   "metadata": {},
   "outputs": [],
   "source": []
  }
 ],
 "metadata": {
  "kernelspec": {
   "display_name": "Python 3",
   "language": "python",
   "name": "python3"
  },
  "language_info": {
   "codemirror_mode": {
    "name": "ipython",
    "version": 3
   },
   "file_extension": ".py",
   "mimetype": "text/x-python",
   "name": "python",
   "nbconvert_exporter": "python",
   "pygments_lexer": "ipython3",
   "version": "3.9.0"
  }
 },
 "nbformat": 4,
 "nbformat_minor": 2
}
