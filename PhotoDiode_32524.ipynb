{
 "cells": [
  {
   "cell_type": "code",
   "execution_count": 39,
   "metadata": {},
   "outputs": [
    {
     "name": "stdout",
     "output_type": "stream",
     "text": [
      "Extracting parameters from /Users/ansle/Documents/GitHub/undergrad_files/PhotoDiode_2024-03-22_10-24-46.vhdr...\n",
      "Setting channel info structure...\n"
     ]
    },
    {
     "name": "stderr",
     "output_type": "stream",
     "text": [
      "/var/folders/dv/s4k5_3r51ml3q36bgbcdsgbr0000gn/T/ipykernel_27181/3688953752.py:16: RuntimeWarning: Limited 1 annotation(s) that were expanding outside the data range.\n",
      "  raw = mne.io.read_raw_brainvision(file_vhdr)\n"
     ]
    },
    {
     "data": {
      "text/html": [
       "<table class=\"table table-hover table-striped table-sm table-responsive small\">\n",
       "    <tr>\n",
       "        <th>Measurement date</th>\n",
       "        \n",
       "        <td>March 22, 2024  10:24:46 GMT</td>\n",
       "        \n",
       "    </tr>\n",
       "    <tr>\n",
       "        <th>Experimenter</th>\n",
       "        \n",
       "        <td>Unknown</td>\n",
       "        \n",
       "    </tr>\n",
       "        <th>Participant</th>\n",
       "        \n",
       "        <td>Unknown</td>\n",
       "        \n",
       "    </tr>\n",
       "    <tr>\n",
       "        <th>Digitized points</th>\n",
       "        \n",
       "        <td>0 points</td>\n",
       "        \n",
       "    </tr>\n",
       "    <tr>\n",
       "        <th>Good channels</th>\n",
       "        <td>1 EEG</td>\n",
       "    </tr>\n",
       "    <tr>\n",
       "        <th>Bad channels</th>\n",
       "        <td>None</td>\n",
       "    </tr>\n",
       "    <tr>\n",
       "        <th>EOG channels</th>\n",
       "        <td>Not available</td>\n",
       "    </tr>\n",
       "    <tr>\n",
       "        <th>ECG channels</th>\n",
       "        <td>Not available</td>\n",
       "    \n",
       "    <tr>\n",
       "        <th>Sampling frequency</th>\n",
       "        <td>500.00 Hz</td>\n",
       "    </tr>\n",
       "    \n",
       "    \n",
       "    <tr>\n",
       "        <th>Highpass</th>\n",
       "        <td>0.00 Hz</td>\n",
       "    </tr>\n",
       "    \n",
       "    \n",
       "    <tr>\n",
       "        <th>Lowpass</th>\n",
       "        <td>250.00 Hz</td>\n",
       "    </tr>\n",
       "    \n",
       "    \n",
       "    \n",
       "    <tr>\n",
       "        <th>Filenames</th>\n",
       "        <td>PhotoDiode_2024-03-22_10-24-46.eeg</td>\n",
       "    </tr>\n",
       "    \n",
       "    <tr>\n",
       "        <th>Duration</th>\n",
       "        <td>00:02:48 (HH:MM:SS)</td>\n",
       "    </tr>\n",
       "</table>"
      ],
      "text/plain": [
       "<RawBrainVision | PhotoDiode_2024-03-22_10-24-46.eeg, 1 x 84001 (168.0 s), ~6 kB, data not loaded>"
      ]
     },
     "execution_count": 39,
     "metadata": {},
     "output_type": "execute_result"
    }
   ],
   "source": [
    "import mne\n",
    "import numpy as np\n",
    "from mne.preprocessing import (ICA)\n",
    "from autoreject import AutoReject\n",
    "from scipy.signal import find_peaks\n",
    "import matplotlib\n",
    "matplotlib.use(\"TkAgg\")\n",
    "\n",
    "eeg_path = \"/Users/ansle/Documents/GitHub/undergrad_files/\"  # You will need to change this location\n",
    "file_name = \"PhotoDiode_2024-03-22_10-24-46\"\n",
    "file_eeg = eeg_path + file_name + \".eeg\"\n",
    "file_vhdr = eeg_path + file_name + \".vhdr\"\n",
    "file_vmrk = eeg_path + file_name + \".vmrk\"\n",
    "\n",
    "# Reload the EEG data now that all necessary files are available\n",
    "raw = mne.io.read_raw_brainvision(file_vhdr)\n",
    "raw.crop(tmin=22, tmax=190)\n",
    "#raw.plot()"
   ]
  },
  {
   "cell_type": "code",
   "execution_count": 40,
   "metadata": {},
   "outputs": [
    {
     "name": "stdout",
     "output_type": "stream",
     "text": [
      "Used Annotations descriptions: ['Stimulus/s1', 'Stimulus/s2', 'Stimulus/s3', 'Stimulus/s5']\n",
      "Not setting metadata\n",
      "100 matching events found\n",
      "Setting baseline interval to [-0.25, 0.0] sec\n",
      "Applying baseline correction (mode: mean)\n",
      "0 projection items activated\n",
      "Loading data for 100 events and 251 original time points ...\n",
      "0 bad epochs dropped\n"
     ]
    }
   ],
   "source": [
    "# Find events again\n",
    "events, event_id = mne.events_from_annotations(raw)\n",
    "\n",
    "# Filter to keep only Stimulus/s2 events\n",
    "stimulus_s1_events = events[events[:, 2] == event_id['Stimulus/s1']]\n",
    "stimulus_s1_events, event_id\n",
    "\n",
    "# Define the epoch parameters\n",
    "tmin, tmax = -0.250, 0.250  # start and end time around each event in seconds\n",
    "\n",
    "# Create epochs around the Stimulus/s2 events\n",
    "epochs = mne.Epochs(raw, events=stimulus_s1_events, event_id=event_id['Stimulus/s1'],\n",
    "                    tmin=tmin, tmax=tmax, preload=True)\n",
    "\n",
    "# Pick the BIP3 channel\n",
    "epochs = epochs.pick_channels(['BIP3'])\n",
    "\n",
    "# Calculate the peak latency for each epoch\n",
    "peak_latencies = []\n",
    "for epoch in epochs.get_data():\n",
    "    # Get the time index and amplitude of the peak\n",
    "    peak_sample = epoch.argmax()\n",
    "    peak_time = epochs.times[peak_sample]\n",
    "    peak_latencies.append(peak_time)\n"
   ]
  },
  {
   "cell_type": "code",
   "execution_count": null,
   "metadata": {},
   "outputs": [],
   "source": [
    "# PLOT LATENCIES\n",
    "import numpy as np\n",
    "import matplotlib.pyplot as plt\n",
    "\n",
    "# Calculate the average latency\n",
    "average_latency = np.mean(peak_latencies)\n",
    "\n",
    "# Visualize the latency distribution\n",
    "plt.figure(figsize=(10, 6))\n",
    "plt.hist(peak_latencies, bins=20, color='skyblue', edgecolor='black')\n",
    "plt.axvline(average_latency, color='red', linestyle='dashed', linewidth=2)\n",
    "plt.title('Distribution of Maximum Photodiode Peaks (-0.250, 0.250)')\n",
    "plt.xlabel('Latency (seconds)')\n",
    "plt.ylabel('Frequency')\n",
    "plt.legend(['Average Latency', 'Latencies'])\n",
    "plt.grid(True)\n",
    "\n",
    "plt.show(), average_latency\n"
   ]
  },
  {
   "cell_type": "code",
   "execution_count": null,
   "metadata": {},
   "outputs": [],
   "source": [
    "print(average_latency)\n",
    "total_events = len(peak_latencies)\n",
    "total_events\n",
    "#Image changes 0.09228 seconds after the event marker, 100 events"
   ]
  },
  {
   "cell_type": "code",
   "execution_count": 28,
   "metadata": {},
   "outputs": [
    {
     "name": "stdout",
     "output_type": "stream",
     "text": [
      "Not setting metadata\n",
      "100 matching events found\n",
      "Setting baseline interval to [-0.25, 0.0] sec\n",
      "Applying baseline correction (mode: mean)\n",
      "0 projection items activated\n",
      "Loading data for 100 events and 251 original time points ...\n",
      "0 bad epochs dropped\n"
     ]
    },
    {
     "data": {
      "text/plain": [
       "(87, 0.08809195402298849)"
      ]
     },
     "execution_count": 28,
     "metadata": {},
     "output_type": "execute_result"
    }
   ],
   "source": [
    "# Update the epoch parameters for the new time window\n",
    "tmin_updated, tmax_updated = -0.250, 0.250\n",
    "amplitude_threshold = 125e-6\n",
    "\n",
    "# Recreate epochs with the updated time window\n",
    "epochs_updated = mne.Epochs(raw, events=stimulus_s1_events, event_id=event_id['Stimulus/s1'],\n",
    "                            tmin=tmin_updated, tmax=tmax_updated, preload=True)\n",
    "\n",
    "# Pick the BIP3 channel again\n",
    "epochs_updated = epochs_updated.pick_channels(['BIP3'])\n",
    "\n",
    "# Calculate the index for the updated stimulus onset\n",
    "stimulus_onset_index_updated = np.where(epochs_updated.times == 0)[0][0]\n",
    "\n",
    "# Find the first timepoint exceeding 200 µV within the new time window for each epoch\n",
    "exceeding_threshold_latencies_updated = []\n",
    "for epoch in epochs_updated.get_data():\n",
    "    # Find the index where the amplitude first exceeds 200 µV\n",
    "    exceeding_index_updated = np.where(epoch[0, :] > amplitude_threshold)[0]\n",
    "    if exceeding_index_updated.size > 0:  # Check if there is at least one exceeding point\n",
    "        # Get the time for the first exceeding point\n",
    "        first_exceeding_time_updated = epochs_updated.times[exceeding_index_updated[0]]\n",
    "        exceeding_threshold_latencies_updated.append(first_exceeding_time_updated)\n",
    "    else:\n",
    "        # If no points exceed the threshold, append None\n",
    "        exceeding_threshold_latencies_updated.append(None)\n",
    "\n",
    "# Filter out None values for calculating average and visualization\n",
    "valid_latencies_updated = [latency for latency in exceeding_threshold_latencies_updated if latency is not None]\n",
    "\n",
    "# Calculate the average latency of valid latencies within the new time window\n",
    "average_latency_threshold_updated = np.mean(valid_latencies_updated) if valid_latencies_updated else 0\n",
    "\n",
    "len(valid_latencies_updated), average_latency_threshold_updated\n"
   ]
  },
  {
   "cell_type": "code",
   "execution_count": 9,
   "metadata": {},
   "outputs": [],
   "source": [
    "# Visualize the distribution of valid latencies within the updated time window\n",
    "import matplotlib.pyplot as plt\n",
    "\n",
    "plt.figure(figsize=(10, 6))\n",
    "plt.hist(valid_latencies_updated, bins=20, color='orange', edgecolor='black')\n",
    "plt.axvline(average_latency_threshold_updated, color='blue', linestyle='dashed', linewidth=2)\n",
    "plt.title('Distribution of Photodiode Peaks >200 uV (-0.250, 0.250)')\n",
    "plt.xlabel('Latency (seconds)')\n",
    "plt.ylabel('Frequency')\n",
    "plt.legend(['Average Latency', 'Latencies'])\n",
    "plt.grid(True)\n",
    "\n",
    "plt.show()\n"
   ]
  },
  {
   "cell_type": "code",
   "execution_count": 29,
   "metadata": {},
   "outputs": [
    {
     "name": "stdout",
     "output_type": "stream",
     "text": [
      "Not setting metadata\n",
      "100 matching events found\n",
      "No baseline correction applied\n",
      "0 projection items activated\n",
      "Loading data for 100 events and 126 original time points ...\n",
      "0 bad epochs dropped\n",
      "Number of valid latencies: 56, Average latency: 0.09949999999999999\n"
     ]
    }
   ],
   "source": [
    "import mne\n",
    "import numpy as np\n",
    "import matplotlib.pyplot as plt\n",
    "\n",
    "# Assuming 'raw' and 'event_id' are already defined and loaded\n",
    "\n",
    "# Update the epoch parameters for the new time window and amplitude threshold\n",
    "tmin_updated, tmax_updated = 0, 0.250\n",
    "amplitude_threshold = 125e-6  # 125 µV in Volts\n",
    "\n",
    "# Assuming you have the 'Stimulus/s1' events extracted somewhere above as 'stimulus_s1_events'\n",
    "# If not, you'll need to extract them similar to how 'Stimulus/s2' events were extracted:\n",
    "# events, event_id = mne.events_from_annotations(raw)\n",
    "# stimulus_s1_events = events[events[:, 2] == event_id['Stimulus/s1']]\n",
    "\n",
    "# Recreate epochs for Stimulus/s1 within the specified window\n",
    "epochs_updated = mne.Epochs(raw, events=stimulus_s1_events, event_id=event_id['Stimulus/s1'],\n",
    "                            tmin=tmin_updated, tmax=tmax_updated, preload=True, baseline=None)\n",
    "\n",
    "# Pick the BIP3 channel\n",
    "epochs_updated = epochs_updated.pick_channels(['BIP3'])\n",
    "\n",
    "# Find the first timepoint exceeding 125 µV after the stimulus in each epoch\n",
    "exceeding_threshold_latencies_updated = []\n",
    "for epoch in epochs_updated.get_data():\n",
    "    # Find the index where the amplitude first exceeds 125 µV\n",
    "    exceeding_index_updated = np.where(epoch[0, :] > amplitude_threshold)[0]\n",
    "    if exceeding_index_updated.size > 0:  # Check if there's at least one exceeding point\n",
    "        first_exceeding_time_updated = epochs_updated.times[exceeding_index_updated[0]]\n",
    "        exceeding_threshold_latencies_updated.append(first_exceeding_time_updated)\n",
    "    else:\n",
    "        exceeding_threshold_latencies_updated.append(None)\n",
    "\n",
    "# Filter out None values for calculating average and visualization\n",
    "valid_latencies_updated = [latency for latency in exceeding_threshold_latencies_updated if latency is not None]\n",
    "\n",
    "# Calculate the average latency of valid latencies\n",
    "average_latency_threshold_updated = np.mean(valid_latencies_updated) if valid_latencies_updated else 0\n",
    "\n",
    "print(f\"Number of valid latencies: {len(valid_latencies_updated)}, Average latency: {average_latency_threshold_updated}\")\n",
    "\n",
    "# Visualize the distribution of valid latencies\n",
    "plt.figure(figsize=(10, 6))\n",
    "plt.hist(valid_latencies_updated, bins=20, color='orange', edgecolor='black')\n",
    "plt.axvline(average_latency_threshold_updated, color='blue', linestyle='dashed', linewidth=2)\n",
    "plt.title('Distribution of Photodiode Peaks >125 uV (0, 0.250)')\n",
    "plt.xlabel('Latency (seconds)')\n",
    "plt.ylabel('Frequency')\n",
    "plt.legend(['Average Latency', 'Latencies'])\n",
    "plt.grid(True)\n",
    "\n",
    "plt.show()\n"
   ]
  },
  {
   "cell_type": "code",
   "execution_count": 37,
   "metadata": {},
   "outputs": [
    {
     "name": "stdout",
     "output_type": "stream",
     "text": [
      "Not setting metadata\n",
      "100 matching events found\n",
      "Setting baseline interval to [-0.25, 0.25] sec\n",
      "Applying baseline correction (mode: mean)\n",
      "0 projection items activated\n",
      "Loading data for 100 events and 251 original time points ...\n",
      "0 bad epochs dropped\n",
      "Not setting metadata\n",
      "100 matching events found\n",
      "No baseline correction applied\n",
      "0 projection items activated\n",
      "0 bad epochs dropped\n"
     ]
    },
    {
     "name": "stderr",
     "output_type": "stream",
     "text": [
      "/var/folders/dv/s4k5_3r51ml3q36bgbcdsgbr0000gn/T/ipykernel_27181/1168277652.py:6: RuntimeWarning: Cannot find channel coordinates in the supplied Evokeds. Not showing channel locations.\n",
      "  epochs_time_windowed.plot_image(picks=['BIP3'], sigma=1.0, cmap='viridis',\n"
     ]
    },
    {
     "data": {
      "text/plain": [
       "[<Figure size 480x360 with 3 Axes>]"
      ]
     },
     "execution_count": 37,
     "metadata": {},
     "output_type": "execute_result"
    }
   ],
   "source": [
    "epochs_time_windowed = mne.Epochs(raw, events=stimulus_s1_events, event_id=event_id['Stimulus/s1'],\n",
    "                                  tmin=-0.250, tmax=0.250, preload=True, baseline=(None, None))\n",
    "\n",
    "epochs_time_windowed = epochs_time_windowed.pick_channels(['BIP3'])\n",
    "\n",
    "epochs_time_windowed.plot_image(picks=['BIP3'], sigma=1.0, cmap='viridis', \n",
    "                          vmin=-125, vmax=125)\n"
   ]
  },
  {
   "cell_type": "code",
   "execution_count": 38,
   "metadata": {},
   "outputs": [
    {
     "ename": "ValueError",
     "evalue": "No matching events found for 10003 (event id 10003)",
     "output_type": "error",
     "traceback": [
      "\u001b[0;31m---------------------------------------------------------------------------\u001b[0m",
      "\u001b[0;31mValueError\u001b[0m                                Traceback (most recent call last)",
      "Cell \u001b[0;32mIn[38], line 1\u001b[0m\n\u001b[0;32m----> 1\u001b[0m epochs_time_windowed \u001b[38;5;241m=\u001b[39m \u001b[43mmne\u001b[49m\u001b[38;5;241;43m.\u001b[39;49m\u001b[43mEpochs\u001b[49m\u001b[43m(\u001b[49m\u001b[43mraw\u001b[49m\u001b[43m,\u001b[49m\u001b[43m \u001b[49m\u001b[43mevents\u001b[49m\u001b[38;5;241;43m=\u001b[39;49m\u001b[43mstimulus_s1_events\u001b[49m\u001b[43m,\u001b[49m\u001b[43m \u001b[49m\u001b[43mevent_id\u001b[49m\u001b[38;5;241;43m=\u001b[39;49m\u001b[43mevent_id\u001b[49m\u001b[43m[\u001b[49m\u001b[38;5;124;43m'\u001b[39;49m\u001b[38;5;124;43mStimulus/s3\u001b[39;49m\u001b[38;5;124;43m'\u001b[39;49m\u001b[43m]\u001b[49m\u001b[43m,\u001b[49m\n\u001b[1;32m      2\u001b[0m \u001b[43m                                  \u001b[49m\u001b[43mtmin\u001b[49m\u001b[38;5;241;43m=\u001b[39;49m\u001b[38;5;241;43m-\u001b[39;49m\u001b[38;5;241;43m0.250\u001b[39;49m\u001b[43m,\u001b[49m\u001b[43m \u001b[49m\u001b[43mtmax\u001b[49m\u001b[38;5;241;43m=\u001b[39;49m\u001b[38;5;241;43m0.250\u001b[39;49m\u001b[43m,\u001b[49m\u001b[43m \u001b[49m\u001b[43mpreload\u001b[49m\u001b[38;5;241;43m=\u001b[39;49m\u001b[38;5;28;43;01mTrue\u001b[39;49;00m\u001b[43m,\u001b[49m\u001b[43m \u001b[49m\u001b[43mbaseline\u001b[49m\u001b[38;5;241;43m=\u001b[39;49m\u001b[43m(\u001b[49m\u001b[38;5;28;43;01mNone\u001b[39;49;00m\u001b[43m,\u001b[49m\u001b[43m \u001b[49m\u001b[38;5;28;43;01mNone\u001b[39;49;00m\u001b[43m)\u001b[49m\u001b[43m)\u001b[49m\n\u001b[1;32m      4\u001b[0m epochs_time_windowed \u001b[38;5;241m=\u001b[39m epochs_time_windowed\u001b[38;5;241m.\u001b[39mpick_channels([\u001b[38;5;124m'\u001b[39m\u001b[38;5;124mBIP3\u001b[39m\u001b[38;5;124m'\u001b[39m])\n\u001b[1;32m      6\u001b[0m epochs_time_windowed\u001b[38;5;241m.\u001b[39mplot_image(picks\u001b[38;5;241m=\u001b[39m[\u001b[38;5;124m'\u001b[39m\u001b[38;5;124mBIP3\u001b[39m\u001b[38;5;124m'\u001b[39m], sigma\u001b[38;5;241m=\u001b[39m\u001b[38;5;241m1.0\u001b[39m, cmap\u001b[38;5;241m=\u001b[39m\u001b[38;5;124m'\u001b[39m\u001b[38;5;124mviridis\u001b[39m\u001b[38;5;124m'\u001b[39m, \n\u001b[1;32m      7\u001b[0m                           vmin\u001b[38;5;241m=\u001b[39m\u001b[38;5;241m-\u001b[39m\u001b[38;5;241m125\u001b[39m, vmax\u001b[38;5;241m=\u001b[39m\u001b[38;5;241m125\u001b[39m)\n",
      "File \u001b[0;32m<decorator-gen-255>:12\u001b[0m, in \u001b[0;36m__init__\u001b[0;34m(self, raw, events, event_id, tmin, tmax, baseline, picks, preload, reject, flat, proj, decim, reject_tmin, reject_tmax, detrend, on_missing, reject_by_annotation, metadata, event_repeated, verbose)\u001b[0m\n",
      "File \u001b[0;32m/Library/Frameworks/Python.framework/Versions/3.10/lib/python3.10/site-packages/mne/epochs.py:2650\u001b[0m, in \u001b[0;36mEpochs.__init__\u001b[0;34m(self, raw, events, event_id, tmin, tmax, baseline, picks, preload, reject, flat, proj, decim, reject_tmin, reject_tmax, detrend, on_missing, reject_by_annotation, metadata, event_repeated, verbose)\u001b[0m\n\u001b[1;32m   2647\u001b[0m raw_sfreq \u001b[38;5;241m=\u001b[39m raw\u001b[38;5;241m.\u001b[39minfo[\u001b[38;5;124m'\u001b[39m\u001b[38;5;124msfreq\u001b[39m\u001b[38;5;124m'\u001b[39m]\n\u001b[1;32m   2649\u001b[0m \u001b[38;5;66;03m# call BaseEpochs constructor\u001b[39;00m\n\u001b[0;32m-> 2650\u001b[0m \u001b[38;5;28;43msuper\u001b[39;49m\u001b[43m(\u001b[49m\u001b[43mEpochs\u001b[49m\u001b[43m,\u001b[49m\u001b[43m \u001b[49m\u001b[38;5;28;43mself\u001b[39;49m\u001b[43m)\u001b[49m\u001b[38;5;241;43m.\u001b[39;49m\u001b[38;5;21;43m__init__\u001b[39;49m\u001b[43m(\u001b[49m\n\u001b[1;32m   2651\u001b[0m \u001b[43m    \u001b[49m\u001b[43minfo\u001b[49m\u001b[43m,\u001b[49m\u001b[43m \u001b[49m\u001b[38;5;28;43;01mNone\u001b[39;49;00m\u001b[43m,\u001b[49m\u001b[43m \u001b[49m\u001b[43mevents\u001b[49m\u001b[43m,\u001b[49m\u001b[43m \u001b[49m\u001b[43mevent_id\u001b[49m\u001b[43m,\u001b[49m\u001b[43m \u001b[49m\u001b[43mtmin\u001b[49m\u001b[43m,\u001b[49m\u001b[43m \u001b[49m\u001b[43mtmax\u001b[49m\u001b[43m,\u001b[49m\n\u001b[1;32m   2652\u001b[0m \u001b[43m    \u001b[49m\u001b[43mmetadata\u001b[49m\u001b[38;5;241;43m=\u001b[39;49m\u001b[43mmetadata\u001b[49m\u001b[43m,\u001b[49m\u001b[43m \u001b[49m\u001b[43mbaseline\u001b[49m\u001b[38;5;241;43m=\u001b[39;49m\u001b[43mbaseline\u001b[49m\u001b[43m,\u001b[49m\u001b[43m \u001b[49m\u001b[43mraw\u001b[49m\u001b[38;5;241;43m=\u001b[39;49m\u001b[43mraw\u001b[49m\u001b[43m,\u001b[49m\u001b[43m \u001b[49m\u001b[43mpicks\u001b[49m\u001b[38;5;241;43m=\u001b[39;49m\u001b[43mpicks\u001b[49m\u001b[43m,\u001b[49m\n\u001b[1;32m   2653\u001b[0m \u001b[43m    \u001b[49m\u001b[43mreject\u001b[49m\u001b[38;5;241;43m=\u001b[39;49m\u001b[43mreject\u001b[49m\u001b[43m,\u001b[49m\u001b[43m \u001b[49m\u001b[43mflat\u001b[49m\u001b[38;5;241;43m=\u001b[39;49m\u001b[43mflat\u001b[49m\u001b[43m,\u001b[49m\u001b[43m \u001b[49m\u001b[43mdecim\u001b[49m\u001b[38;5;241;43m=\u001b[39;49m\u001b[43mdecim\u001b[49m\u001b[43m,\u001b[49m\u001b[43m \u001b[49m\u001b[43mreject_tmin\u001b[49m\u001b[38;5;241;43m=\u001b[39;49m\u001b[43mreject_tmin\u001b[49m\u001b[43m,\u001b[49m\n\u001b[1;32m   2654\u001b[0m \u001b[43m    \u001b[49m\u001b[43mreject_tmax\u001b[49m\u001b[38;5;241;43m=\u001b[39;49m\u001b[43mreject_tmax\u001b[49m\u001b[43m,\u001b[49m\u001b[43m \u001b[49m\u001b[43mdetrend\u001b[49m\u001b[38;5;241;43m=\u001b[39;49m\u001b[43mdetrend\u001b[49m\u001b[43m,\u001b[49m\n\u001b[1;32m   2655\u001b[0m \u001b[43m    \u001b[49m\u001b[43mproj\u001b[49m\u001b[38;5;241;43m=\u001b[39;49m\u001b[43mproj\u001b[49m\u001b[43m,\u001b[49m\u001b[43m \u001b[49m\u001b[43mon_missing\u001b[49m\u001b[38;5;241;43m=\u001b[39;49m\u001b[43mon_missing\u001b[49m\u001b[43m,\u001b[49m\u001b[43m \u001b[49m\u001b[43mpreload_at_end\u001b[49m\u001b[38;5;241;43m=\u001b[39;49m\u001b[43mpreload\u001b[49m\u001b[43m,\u001b[49m\n\u001b[1;32m   2656\u001b[0m \u001b[43m    \u001b[49m\u001b[43mevent_repeated\u001b[49m\u001b[38;5;241;43m=\u001b[39;49m\u001b[43mevent_repeated\u001b[49m\u001b[43m,\u001b[49m\u001b[43m \u001b[49m\u001b[43mverbose\u001b[49m\u001b[38;5;241;43m=\u001b[39;49m\u001b[43mverbose\u001b[49m\u001b[43m,\u001b[49m\n\u001b[1;32m   2657\u001b[0m \u001b[43m    \u001b[49m\u001b[43mraw_sfreq\u001b[49m\u001b[38;5;241;43m=\u001b[39;49m\u001b[43mraw_sfreq\u001b[49m\u001b[43m,\u001b[49m\u001b[43m \u001b[49m\u001b[43mannotations\u001b[49m\u001b[38;5;241;43m=\u001b[39;49m\u001b[43mraw\u001b[49m\u001b[38;5;241;43m.\u001b[39;49m\u001b[43mannotations\u001b[49m\u001b[43m)\u001b[49m\n",
      "File \u001b[0;32m<decorator-gen-242>:12\u001b[0m, in \u001b[0;36m__init__\u001b[0;34m(self, info, data, events, event_id, tmin, tmax, baseline, raw, picks, reject, flat, decim, reject_tmin, reject_tmax, detrend, proj, on_missing, preload_at_end, selection, drop_log, filename, metadata, event_repeated, verbose, raw_sfreq, annotations)\u001b[0m\n",
      "File \u001b[0;32m/Library/Frameworks/Python.framework/Versions/3.10/lib/python3.10/site-packages/mne/epochs.py:423\u001b[0m, in \u001b[0;36mBaseEpochs.__init__\u001b[0;34m(***failed resolving arguments***)\u001b[0m\n\u001b[1;32m    420\u001b[0m     \u001b[38;5;28;01mif\u001b[39;00m val \u001b[38;5;129;01mnot\u001b[39;00m \u001b[38;5;129;01min\u001b[39;00m events[:, \u001b[38;5;241m2\u001b[39m]:\n\u001b[1;32m    421\u001b[0m         msg \u001b[38;5;241m=\u001b[39m (\u001b[38;5;124m'\u001b[39m\u001b[38;5;124mNo matching events found for \u001b[39m\u001b[38;5;132;01m%s\u001b[39;00m\u001b[38;5;124m \u001b[39m\u001b[38;5;124m'\u001b[39m\n\u001b[1;32m    422\u001b[0m                \u001b[38;5;124m'\u001b[39m\u001b[38;5;124m(event id \u001b[39m\u001b[38;5;132;01m%i\u001b[39;00m\u001b[38;5;124m)\u001b[39m\u001b[38;5;124m'\u001b[39m \u001b[38;5;241m%\u001b[39m (key, val))\n\u001b[0;32m--> 423\u001b[0m         \u001b[43m_on_missing\u001b[49m\u001b[43m(\u001b[49m\u001b[43mon_missing\u001b[49m\u001b[43m,\u001b[49m\u001b[43m \u001b[49m\u001b[43mmsg\u001b[49m\u001b[43m)\u001b[49m\n\u001b[1;32m    425\u001b[0m \u001b[38;5;66;03m# ensure metadata matches original events size\u001b[39;00m\n\u001b[1;32m    426\u001b[0m \u001b[38;5;28mself\u001b[39m\u001b[38;5;241m.\u001b[39mselection \u001b[38;5;241m=\u001b[39m np\u001b[38;5;241m.\u001b[39marange(\u001b[38;5;28mlen\u001b[39m(events))\n",
      "File \u001b[0;32m/Library/Frameworks/Python.framework/Versions/3.10/lib/python3.10/site-packages/mne/utils/check.py:872\u001b[0m, in \u001b[0;36m_on_missing\u001b[0;34m(on_missing, msg, name, error_klass)\u001b[0m\n\u001b[1;32m    870\u001b[0m on_missing \u001b[38;5;241m=\u001b[39m \u001b[38;5;124m'\u001b[39m\u001b[38;5;124mwarn\u001b[39m\u001b[38;5;124m'\u001b[39m \u001b[38;5;28;01mif\u001b[39;00m on_missing \u001b[38;5;241m==\u001b[39m \u001b[38;5;124m'\u001b[39m\u001b[38;5;124mwarning\u001b[39m\u001b[38;5;124m'\u001b[39m \u001b[38;5;28;01melse\u001b[39;00m on_missing\n\u001b[1;32m    871\u001b[0m \u001b[38;5;28;01mif\u001b[39;00m on_missing \u001b[38;5;241m==\u001b[39m \u001b[38;5;124m'\u001b[39m\u001b[38;5;124mraise\u001b[39m\u001b[38;5;124m'\u001b[39m:\n\u001b[0;32m--> 872\u001b[0m     \u001b[38;5;28;01mraise\u001b[39;00m error_klass(msg)\n\u001b[1;32m    873\u001b[0m \u001b[38;5;28;01melif\u001b[39;00m on_missing \u001b[38;5;241m==\u001b[39m \u001b[38;5;124m'\u001b[39m\u001b[38;5;124mwarn\u001b[39m\u001b[38;5;124m'\u001b[39m:\n\u001b[1;32m    874\u001b[0m     warn(msg)\n",
      "\u001b[0;31mValueError\u001b[0m: No matching events found for 10003 (event id 10003)"
     ]
    }
   ],
   "source": [
    "epochs_time_windowed = mne.Epochs(raw, events=stimulus_s1_events, event_id=event_id['Stimulus/s3'],\n",
    "                                  tmin=-0.250, tmax=0.250, preload=True, baseline=(None, None))\n",
    "\n",
    "epochs_time_windowed = epochs_time_windowed.pick_channels(['BIP3'])\n",
    "\n",
    "epochs_time_windowed.plot_image(picks=['BIP3'], sigma=1.0, cmap='viridis', \n",
    "                          vmin=-125, vmax=125)\n"
   ]
  },
  {
   "cell_type": "code",
   "execution_count": null,
   "metadata": {},
   "outputs": [],
   "source": []
  }
 ],
 "metadata": {
  "kernelspec": {
   "display_name": "Python 3",
   "language": "python",
   "name": "python3"
  },
  "language_info": {
   "codemirror_mode": {
    "name": "ipython",
    "version": 3
   },
   "file_extension": ".py",
   "mimetype": "text/x-python",
   "name": "python",
   "nbconvert_exporter": "python",
   "pygments_lexer": "ipython3",
   "version": "3.10.4"
  }
 },
 "nbformat": 4,
 "nbformat_minor": 2
}
